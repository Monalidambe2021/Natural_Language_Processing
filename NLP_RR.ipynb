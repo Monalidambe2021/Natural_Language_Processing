{
 "cells": [
  {
   "cell_type": "code",
   "execution_count": 1,
   "id": "83faaaf5",
   "metadata": {},
   "outputs": [],
   "source": [
    "import pandas as pd"
   ]
  },
  {
   "cell_type": "code",
   "execution_count": 2,
   "id": "71eb63f9",
   "metadata": {},
   "outputs": [
    {
     "data": {
      "text/html": [
       "<div>\n",
       "<style scoped>\n",
       "    .dataframe tbody tr th:only-of-type {\n",
       "        vertical-align: middle;\n",
       "    }\n",
       "\n",
       "    .dataframe tbody tr th {\n",
       "        vertical-align: top;\n",
       "    }\n",
       "\n",
       "    .dataframe thead th {\n",
       "        text-align: right;\n",
       "    }\n",
       "</style>\n",
       "<table border=\"1\" class=\"dataframe\">\n",
       "  <thead>\n",
       "    <tr style=\"text-align: right;\">\n",
       "      <th></th>\n",
       "      <th>Review</th>\n",
       "      <th>Liked</th>\n",
       "    </tr>\n",
       "  </thead>\n",
       "  <tbody>\n",
       "    <tr>\n",
       "      <th>0</th>\n",
       "      <td>Wow... Loved this place.</td>\n",
       "      <td>1</td>\n",
       "    </tr>\n",
       "    <tr>\n",
       "      <th>1</th>\n",
       "      <td>Crust is not good.</td>\n",
       "      <td>0</td>\n",
       "    </tr>\n",
       "    <tr>\n",
       "      <th>2</th>\n",
       "      <td>Not tasty and the texture was just nasty.</td>\n",
       "      <td>0</td>\n",
       "    </tr>\n",
       "    <tr>\n",
       "      <th>3</th>\n",
       "      <td>Stopped by during the late May bank holiday of...</td>\n",
       "      <td>1</td>\n",
       "    </tr>\n",
       "    <tr>\n",
       "      <th>4</th>\n",
       "      <td>The selection on the menu was great and so wer...</td>\n",
       "      <td>1</td>\n",
       "    </tr>\n",
       "  </tbody>\n",
       "</table>\n",
       "</div>"
      ],
      "text/plain": [
       "                                              Review  Liked\n",
       "0                           Wow... Loved this place.      1\n",
       "1                                 Crust is not good.      0\n",
       "2          Not tasty and the texture was just nasty.      0\n",
       "3  Stopped by during the late May bank holiday of...      1\n",
       "4  The selection on the menu was great and so wer...      1"
      ]
     },
     "execution_count": 2,
     "metadata": {},
     "output_type": "execute_result"
    }
   ],
   "source": [
    "# Load the dataset\n",
    "df= pd.read_csv('../Datasets/Restaurant_Reviews.tsv',sep='\\t')\n",
    "df.head()"
   ]
  },
  {
   "cell_type": "code",
   "execution_count": 3,
   "id": "33a87449",
   "metadata": {},
   "outputs": [],
   "source": [
    "review1= df['Review'][0]"
   ]
  },
  {
   "cell_type": "code",
   "execution_count": 4,
   "id": "3d24b66a",
   "metadata": {},
   "outputs": [
    {
     "data": {
      "text/plain": [
       "(1000, 2)"
      ]
     },
     "execution_count": 4,
     "metadata": {},
     "output_type": "execute_result"
    }
   ],
   "source": [
    "df.shape"
   ]
  },
  {
   "cell_type": "code",
   "execution_count": 5,
   "id": "dff44f35",
   "metadata": {},
   "outputs": [],
   "source": [
    "# pattern matching ----> [^a-zA-Z]\n",
    "import re"
   ]
  },
  {
   "cell_type": "code",
   "execution_count": 6,
   "id": "a8bc1515",
   "metadata": {},
   "outputs": [
    {
     "data": {
      "text/plain": [
       "'Wow    Loved this place '"
      ]
     },
     "execution_count": 6,
     "metadata": {},
     "output_type": "execute_result"
    }
   ],
   "source": [
    "# REmove unwanted characters by space\n",
    "review1=re.sub('[^a-zA-Z]',' ',review1)  \n",
    "review1"
   ]
  },
  {
   "cell_type": "code",
   "execution_count": 7,
   "id": "c79b1723",
   "metadata": {},
   "outputs": [
    {
     "data": {
      "text/plain": [
       "'wow    loved this place '"
      ]
     },
     "execution_count": 7,
     "metadata": {},
     "output_type": "execute_result"
    }
   ],
   "source": [
    "# covert Upper case to Lower case\n",
    "review1= review1.lower()\n",
    "review1"
   ]
  },
  {
   "cell_type": "code",
   "execution_count": 8,
   "id": "e2452c50",
   "metadata": {},
   "outputs": [],
   "source": [
    "# nltk (Natural language toolkit)\n",
    "import nltk"
   ]
  },
  {
   "cell_type": "code",
   "execution_count": 9,
   "id": "1a112cde",
   "metadata": {},
   "outputs": [],
   "source": [
    "# Remove stop-word\n",
    "from nltk.corpus import stopwords"
   ]
  },
  {
   "cell_type": "code",
   "execution_count": 10,
   "id": "b2f9f7f3",
   "metadata": {},
   "outputs": [],
   "source": [
    "sw=stopwords.words('english')"
   ]
  },
  {
   "cell_type": "code",
   "execution_count": 11,
   "id": "f13edd7d",
   "metadata": {},
   "outputs": [
    {
     "data": {
      "text/plain": [
       "179"
      ]
     },
     "execution_count": 11,
     "metadata": {},
     "output_type": "execute_result"
    }
   ],
   "source": [
    "len(sw)"
   ]
  },
  {
   "cell_type": "markdown",
   "id": "d17574cb",
   "metadata": {},
   "source": [
    "#1st Review Preprocessing"
   ]
  },
  {
   "cell_type": "code",
   "execution_count": 12,
   "id": "5251ecfb",
   "metadata": {},
   "outputs": [
    {
     "data": {
      "text/plain": [
       "'wow    loved this place '"
      ]
     },
     "execution_count": 12,
     "metadata": {},
     "output_type": "execute_result"
    }
   ],
   "source": [
    "review1"
   ]
  },
  {
   "cell_type": "code",
   "execution_count": 13,
   "id": "7e8373a4",
   "metadata": {},
   "outputs": [
    {
     "name": "stdout",
     "output_type": "stream",
     "text": [
      "wow is not in stopwords\n",
      " is not in stopwords\n",
      " is not in stopwords\n",
      " is not in stopwords\n",
      "loved is not in stopwords\n",
      "place is not in stopwords\n",
      " is not in stopwords\n"
     ]
    }
   ],
   "source": [
    "for word in review1.split(' '):\n",
    "    if not word in stopwords.words('english'):\n",
    "        print(word,'is not in stopwords')"
   ]
  },
  {
   "cell_type": "code",
   "execution_count": 14,
   "id": "f15c8d5c",
   "metadata": {},
   "outputs": [
    {
     "data": {
      "text/plain": [
       "['wow', '', '', '', 'loved', 'place', '']"
      ]
     },
     "execution_count": 14,
     "metadata": {},
     "output_type": "execute_result"
    }
   ],
   "source": [
    "review1_1 =[word for word in review1.split(' ') if not word in stopwords.words('english')]\n",
    "review1_1\n"
   ]
  },
  {
   "cell_type": "code",
   "execution_count": 15,
   "id": "af7cd3e8",
   "metadata": {},
   "outputs": [],
   "source": [
    "# Stemming\n",
    "from nltk.stem.porter import PorterStemmer"
   ]
  },
  {
   "cell_type": "code",
   "execution_count": 16,
   "id": "14195f1f",
   "metadata": {},
   "outputs": [
    {
     "data": {
      "text/plain": [
       "'love'"
      ]
     },
     "execution_count": 16,
     "metadata": {},
     "output_type": "execute_result"
    }
   ],
   "source": [
    "ps= PorterStemmer()\n",
    "ps.stem('loved')"
   ]
  },
  {
   "cell_type": "code",
   "execution_count": 17,
   "id": "d270fa80",
   "metadata": {},
   "outputs": [
    {
     "data": {
      "text/plain": [
       "'like'"
      ]
     },
     "execution_count": 17,
     "metadata": {},
     "output_type": "execute_result"
    }
   ],
   "source": [
    "ps.stem('liked')"
   ]
  },
  {
   "cell_type": "code",
   "execution_count": 18,
   "id": "6e03ebdb",
   "metadata": {},
   "outputs": [
    {
     "data": {
      "text/plain": [
       "'walk'"
      ]
     },
     "execution_count": 18,
     "metadata": {},
     "output_type": "execute_result"
    }
   ],
   "source": [
    "ps.stem('walking')"
   ]
  },
  {
   "cell_type": "code",
   "execution_count": 19,
   "id": "7e2bb960",
   "metadata": {},
   "outputs": [
    {
     "data": {
      "text/plain": [
       "['wow', '', '', '', 'loved', 'place', '']"
      ]
     },
     "execution_count": 19,
     "metadata": {},
     "output_type": "execute_result"
    }
   ],
   "source": [
    "review1_1"
   ]
  },
  {
   "cell_type": "code",
   "execution_count": 20,
   "id": "2b5b2713",
   "metadata": {},
   "outputs": [],
   "source": [
    "review1_2=[ps.stem(word) for word in review1_1]"
   ]
  },
  {
   "cell_type": "code",
   "execution_count": 21,
   "id": "c4a56bfd",
   "metadata": {},
   "outputs": [],
   "source": [
    "review1_2 = set(review1_2)"
   ]
  },
  {
   "cell_type": "code",
   "execution_count": 22,
   "id": "747f1747",
   "metadata": {},
   "outputs": [
    {
     "data": {
      "text/plain": [
       "' place love wow'"
      ]
     },
     "execution_count": 22,
     "metadata": {},
     "output_type": "execute_result"
    }
   ],
   "source": [
    "# Process string\n",
    "' '.join(review1_2)   # for Sequance we use RNN"
   ]
  },
  {
   "cell_type": "markdown",
   "id": "0f213249",
   "metadata": {},
   "source": [
    "# All Review Preprocessing"
   ]
  },
  {
   "cell_type": "code",
   "execution_count": 23,
   "id": "20b4cae5",
   "metadata": {},
   "outputs": [],
   "source": [
    "# all reviews processing\n",
    "all_reviews=[] # Countvectorizer having review in the list\n",
    "for review in df['Review']:\n",
    "    msg= re.sub('[^a-zA-Z]',' ',review)\n",
    "    msg= msg.lower()\n",
    "    msg1= [ps.stem(word) for word in msg.split(' ') if not word in stopwords.words('english')]\n",
    "    msg1= set(msg1)\n",
    "    processed_msg= ' '.join(msg1)\n",
    "    all_reviews.append(processed_msg)"
   ]
  },
  {
   "cell_type": "code",
   "execution_count": 24,
   "id": "e73483a8",
   "metadata": {},
   "outputs": [
    {
     "data": {
      "text/plain": [
       "1000"
      ]
     },
     "execution_count": 24,
     "metadata": {},
     "output_type": "execute_result"
    }
   ],
   "source": [
    "len(all_reviews)"
   ]
  },
  {
   "cell_type": "code",
   "execution_count": 25,
   "id": "2db6f6fe",
   "metadata": {},
   "outputs": [
    {
     "data": {
      "text/plain": [
       "[' place love wow',\n",
       " ' crust good',\n",
       " ' tasti nasti textur',\n",
       " 'steve  love bank stop late rick may recommend holiday',\n",
       " ' price select great menu',\n",
       " ' damn get want pho angri',\n",
       " ' honeslti fresh tast',\n",
       " ' could warmer ahead time made like kept tell rubber potato',\n",
       " ' great fri',\n",
       " ' touch great',\n",
       " ' servic prompt',\n",
       " ' would back go',\n",
       " ' cashier wayyy ever end overpr say still care',\n",
       " ' chicken mmmm tri ravoli cape cod cranberri',\n",
       " ' human sure hair disgust pretti',\n",
       " ' cash indic shock sign',\n",
       " ' recommend highli',\n",
       " ' slow littl waitress servic',\n",
       " ' vega time alon worth let place',\n",
       " 'like ',\n",
       " ' blah burritto',\n",
       " ' food amaz',\n",
       " ' servic cute also',\n",
       " ' could beauti less interior care',\n",
       " 'perform ',\n",
       " ' good velvet cake ohhh red right stuff',\n",
       " ' never ask brought salad',\n",
       " ' wall friendli staff street hole mexican taco great',\n",
       " ' warm restaur run tabl total hour around sever like overwhelm get food luke took',\n",
       " ' salmon worst sashimi',\n",
       " ' combo decent burger like beer deal also fri',\n",
       " 'like  blow final',\n",
       " ' could accid happier found place',\n",
       " ' good familiar favor seem elsewher bite like pub look quick grab food place',\n",
       " ' overal like lot place',\n",
       " ' inexpens restaur redeem qualiti',\n",
       " ' good price portion ampl',\n",
       " ' came everi tabl stupid time waiter made like servic poor feel',\n",
       " 'delight  first visit hiro',\n",
       " 'suck servic ',\n",
       " ' tender shrimp moist',\n",
       " ' good enough drag deal establish would',\n",
       " ' judg good get side whether want hard sick fear melt gross eat styrofoam',\n",
       " ' attent note servic server provid great posit',\n",
       " ' disgust regist puck peopl frozen worst behind',\n",
       " ' rib prime dessert like section thing',\n",
       " ' bad damn gener food',\n",
       " ' good burger cook beef right',\n",
       " ' sandwich want firehous go',\n",
       " ' pita refresh side tasti dress greek salad hummu',\n",
       " ' insid pink outsid nice order duck tender char rare',\n",
       " ' came run tabl husband realiz left us sunglass',\n",
       " ' good mein chow',\n",
       " ' talk toward horribl custom one food attitud enjoy',\n",
       " ' huge portion',\n",
       " ' love server imagin wonder food friendli great menu',\n",
       " ' restaur vega attack absolut excus downtown line grill heart flat',\n",
       " ' pasta seafood string like much bottom',\n",
       " ' perfectli sauc amount scallop cook power salad right',\n",
       " ' petrifi tasteless rip banana',\n",
       " ' think refil water struggl minut wave least',\n",
       " ' appet receiv star place',\n",
       " ' handmad cocktail delici',\n",
       " ' back definit go',\n",
       " ' glad found place',\n",
       " ' give portion servic huge discount militari food great',\n",
       " ' alway time gringo great do',\n",
       " ' back went time second updat still amaz',\n",
       " 'heard  never chewi got fish batter salt food appar',\n",
       " ' way finish great',\n",
       " ' went tast jeff deal drink includ expect beyond',\n",
       " ' good time realli rice',\n",
       " ' servic meh',\n",
       " ' chocol noth min milk get milkshak took',\n",
       " ' excalibur known insid sens use suck guess would place common',\n",
       " ' valu well quit appal dish scallop',\n",
       " ' bad time servic custom',\n",
       " ' good sweet season well potato fri',\n",
       " ' today lunch good buffet time second pretti',\n",
       " ' good vega wast compani rice eat cheat opportun food feel much go',\n",
       " ' relationship come ask like underwhelm break person wait experienc parti',\n",
       " ' old smell like other greas trap walk eat place',\n",
       " ' bland beef roast turkey',\n",
       " ' place',\n",
       " ' tast palat six cake year everyon like disast rave tailor pan sugari old',\n",
       " ' roll love yummi tri oh spring pho',\n",
       " ' chicken ratio batter made meat poor unsatisfi tender',\n",
       " ' food say amaz',\n",
       " 'omelet  die',\n",
       " ' fresh everyth delici',\n",
       " ' dine disappoint experi larg summari',\n",
       " ' hottest flirt mouth realli like sexi outrag person parti',\n",
       " ' forward casino never ever step hard rock',\n",
       " ' breakfast best buffet',\n",
       " ' bye tip ladi say',\n",
       " ' never go',\n",
       " ' back',\n",
       " ' arriv food quickli',\n",
       " ' good',\n",
       " ' good serv side realli cafe food',\n",
       " ' anoth love meal marrow wife go server garlic roast fantast extra bone found ad',\n",
       " ' good bloddi come waiter help kept mari thing',\n",
       " ' best price buffet beat cannot town',\n",
       " ' mussel delici love wine cook reduct duck tender dish potato',\n",
       " ' one buffet better',\n",
       " ' went afternoon fantast tigerlilli',\n",
       " ' attent delici got deal bartend person food great',\n",
       " ' ambienc music play wonder',\n",
       " ' back next trip go',\n",
       " ' sooooo good',\n",
       " ' yama good real lover let honest sushi',\n",
       " ' busi min arriv order us least food pass',\n",
       " ' restaur realli thai definit worth visit fantast',\n",
       " ' tender spici nice',\n",
       " ' good price',\n",
       " ' check',\n",
       " ' gross pretti',\n",
       " ' atmospher better',\n",
       " ' mess steak kind hard',\n",
       " ' disappoint experi although like look actual bit sound much place',\n",
       " ' manag know eaten blandest cuisin serv ever indian prepar food place',\n",
       " ' least worri boot servic worst',\n",
       " ' fine waitress servic friendli',\n",
       " ' son best eaten steak love ever guy said worst place',\n",
       " ' good night thought away hit realli sushi ventur get spot place',\n",
       " ' lack better host bitch word staff',\n",
       " ' bad bland reason time number want like leav review wast place',\n",
       " ' phenomen servic ambianc food',\n",
       " ' return',\n",
       " ' next vega time strip return pork definit worth ventur belli',\n",
       " ' mediocr overpr way food place',\n",
       " ' vodka penn excel',\n",
       " ' good chicken sandwich tuna burger massiv tasti delish includ meatloaf crispi melt wrap food select',\n",
       " ' manag rude',\n",
       " ' good bagel real even delici cream nyc lox caper chees select',\n",
       " ' good subway everi come fact meet expect great',\n",
       " ' breakfast solid serious',\n",
       " ' best vega one bar food',\n",
       " ' dine mani restaur vega love realli weekend rude would extrem',\n",
       " ' never realli made drink empti suggest great menu',\n",
       " '',\n",
       " ' check waiter help us friendli rare',\n",
       " 'disappoint  lunch husband servic ate food',\n",
       " ' curri bamboo shoot tasti red much',\n",
       " ' top moz blanket done subpar nice like cover food feel',\n",
       " ' decor bathroom well clean place',\n",
       " ' alway slow chang servic qualiti food extrem go menu',\n",
       " ' slow come serv littl servic server peopl pace food consid',\n",
       " ' give thumb',\n",
       " ' ignor pay attent tabl waiter lot us watch',\n",
       " ' came away seat day middl fianc greet right',\n",
       " ' restaur bay mandalay great',\n",
       " ' forti vain minut wait five',\n",
       " ' came stale crostini salad',\n",
       " ' nigiri qualiti highlight great',\n",
       " ' alway joint staff clean friendli',\n",
       " ' differ flavor piec still day cut well tender wonder',\n",
       " ' pasta free ago time first realli gluten year excel sever sinc order voodoo go',\n",
       " ' good place',\n",
       " ' everyth stale leftov day unfortun order bakeri hit must',\n",
       " ' came today back reloc still sinc impress',\n",
       " ' immedi seat',\n",
       " ' price reason divers menu',\n",
       " 'cost  avoid',\n",
       " ' alway restaur never full wait',\n",
       " ' delici',\n",
       " ' best area phoenix metro one hand eat place',\n",
       " ' good look food go',\n",
       " ' bad treat never',\n",
       " 'hella  salti bacon',\n",
       " ' tast spinach ingredi sad liter order avocado also dress zero salad',\n",
       " ' dine fine vega price use ladi list realli hand right menu',\n",
       " ' friendli waitress',\n",
       " ' curri lordi lover soi dish miss khao',\n",
       " ' everyth terrif thrill made vegetarian also amaz daughter accommod menu',\n",
       " ' judg back night caught perhap inspir review go',\n",
       " ' servic lot leav desir',\n",
       " ' hip touch modern cozi atmospher maintain',\n",
       " ' back haunt everi come weekli definit place',\n",
       " ' sat ask minut one liter order take',\n",
       " ' charcoal total bland burger flavor overcook meat absolut',\n",
       " ' back verg attack waitress look like send also heart decid',\n",
       " ' rude treat dress',\n",
       " ' probabl dirt',\n",
       " ' quantiti someth lack love healthi flavor want hit spot place',\n",
       " ' raspberri ice incred order also lemon cocktail',\n",
       " ' could suck expect imagin food',\n",
       " ' decor interest',\n",
       " ' crepe realli like station',\n",
       " ' top good butter home bacon chip serv made bit origin also bread potato hot',\n",
       " ' delici prepar food watch',\n",
       " ' egg roll fantast',\n",
       " ' gyro arriv one order miss',\n",
       " ' cream ice dessert wing left satisfi quit salad feel',\n",
       " 'joey  best sure valley reader vote phoenix realli magazin dog hot',\n",
       " ' best bowl tasti go pho place',\n",
       " ' blow total live friday music',\n",
       " ' never disrespect felt insult',\n",
       " ' friendli staff',\n",
       " 'drive  worth',\n",
       " 'heard  good everi could dream exceed hope thing place',\n",
       " ' serivc food great',\n",
       " ' beer help warm',\n",
       " ' brunch spot great',\n",
       " ' servic invit friendli',\n",
       " ' good lunch spot',\n",
       " ' foot first time step live sinc place last',\n",
       " ' worst experi ever',\n",
       " ' must night place',\n",
       " ' white mushroom mix beateou side corn delish gold pure yukon',\n",
       " ' wall never sure show side given kitchen climb bug would',\n",
       " ' come time soon realiz minut wait salad',\n",
       " ' friend love tartar salmon',\n",
       " ' back go',\n",
       " ' tasti extrem',\n",
       " ' good though waitress',\n",
       " ' good soggi',\n",
       " 'mojito  jamaican delici',\n",
       " ' price small worth',\n",
       " ' accordingli order rich food',\n",
       " ' area unless mind nude everyon outsid full see rins shower take',\n",
       " ' servic bit lack',\n",
       " ' none filet tabl bisqu lobster need risotto sprout pepper cours bussel salt',\n",
       " ' busi come hope cook someon bode go',\n",
       " ' bad flavor enough either cold',\n",
       " ' bacon love wrap date',\n",
       " 'bargain  unbeliev',\n",
       " ' folk alway special welcom us make feel otto',\n",
       " ' uninspir also main',\n",
       " ' first pho amaz place',\n",
       " ' whenev experi made stop town must wonder place',\n",
       " ' bad enjoy annoy enough drunk deal peopl world worst food',\n",
       " ' fun chef',\n",
       " ' yeah cheeseburg suck got apart doubl singl still order upload fall pictur patti',\n",
       " ' sport wall watch coupl event tv drink cover great place',\n",
       " ' give possibl zero star',\n",
       " ' none roll mayo sauc anoth yet said well spici eel yum descript',\n",
       " ' tast hardest decis say suppos honestli amaz would dish',\n",
       " ' back roll sure tri stay eye may go',\n",
       " ' attent everyon excel servic custom provid',\n",
       " ' time money horribl wast',\n",
       " 'quit  dish flavour',\n",
       " ' restaur time side almost excus empti',\n",
       " ' freez busi build also either cold',\n",
       " ' pay like said review eat place',\n",
       " ' point come minut one drink close took',\n",
       " 'delight  folk flavor serious',\n",
       " ' went vega better ayc sushi much place',\n",
       " ' dark enough mood set light',\n",
       " ' back par busi base sub receiv show gratitud servic effort go',\n",
       " ' realli owner peopl great',\n",
       " ' privileg noth work eat',\n",
       " ' flavor creami dress greek',\n",
       " ' place think parent similar overal made complaint silent would felt take',\n",
       " ' good peanut sauc pizza tasti',\n",
       " ' tabl servic pretti fast',\n",
       " ' servic fantast',\n",
       " ' godfath given possibl zero well star would',\n",
       " ' know make',\n",
       " ' flavor tough short',\n",
       " ' around hope stick place',\n",
       " ' tap recal vega ever water bar charg',\n",
       " ' restaur atmospher exquisit',\n",
       " ' good inexpens boot servic clean',\n",
       " ' seafood fresh portion gener',\n",
       " 'plu  buck',\n",
       " ' servic par either',\n",
       " ' twice delici time far absolut visit food thu',\n",
       " ' good year ago',\n",
       " ' disappoint wildli cafe self proclaim coffe',\n",
       " 'veggitarian  platter world',\n",
       " ' wrong cant food go',\n",
       " 'beat ',\n",
       " ' kind stop madison ironman staff friendli place',\n",
       " 'job  good chef friendli',\n",
       " ' boba tea better even pho dedic spot jenni',\n",
       " ' outstand like servic patio',\n",
       " ' goat flavor wow meat skimp taco',\n",
       " 'think',\n",
       " ' bland mac get pretti salad',\n",
       " 'disappoint bachi went  friend burger recommend',\n",
       " ' servic stink',\n",
       " ' wait',\n",
       " ' restaur qualiti sushi place',\n",
       " ' pizza recommend wing definit well would',\n",
       " ' salad great pizza',\n",
       " ' went wrong burn thing saganaki',\n",
       " ' home done could hour time better breakfast wait',\n",
       " ' amaz place',\n",
       " ' disappoint yelper husband hate fellow disagre place',\n",
       " ' came mani never pizza hour got us around later either wait',\n",
       " ' know slow',\n",
       " ' incred delish beer staff food great select',\n",
       " 'disappoint back neighborhood  live locat conveni',\n",
       " ' know soooo could delici pork pull',\n",
       " ' fresh incred fish prepar care get',\n",
       " ' know bachi time burger write rate gave third star pleas review eat go',\n",
       " ' everyth love fact worth menu',\n",
       " ' dine never place',\n",
       " ' good excel servic food',\n",
       " ' good beer drink food select',\n",
       " ' stir away stay pleas shrimp noodl fri',\n",
       " ' mani box could chip probabl around sad order count potato',\n",
       " 'bore realli food ',\n",
       " ' servic good check',\n",
       " ' never anoth dime greedi see corpor',\n",
       " ' back never ever go',\n",
       " ' back never atroci return like servic get much go pass',\n",
       " ' summer dine delight charm outdoor patio',\n",
       " 'expect  good',\n",
       " ' food fantast',\n",
       " ' came muffin untoast toast order english',\n",
       " ' good food',\n",
       " ' back never go',\n",
       " ' price made high qualiti hous food great',\n",
       " ' boy bu rude hand',\n",
       " ' place known point loudli friend mind publicli figur make joke basic',\n",
       " ' back good fare price lighter public reason tell way bbq old',\n",
       " ' two happi wrong full left us go consid',\n",
       " 'bread  hous made',\n",
       " ' servic downsid',\n",
       " ' ever without also doubt worst fri',\n",
       " ' good servic except review food',\n",
       " ' return meal coupl month amaz later',\n",
       " ' shawarrrrrrma favorit town place',\n",
       " ' sweet black pea eye unreal potato',\n",
       " 'disappoint ',\n",
       " 'vinaigrett  good could better serv dish overal still may make',\n",
       " ' egg mani restaur never serv far seen breakfast go especi place',\n",
       " ' immedi home mom got bite sick salad',\n",
       " ' alway hut honor pizza deal server pleasant coupon',\n",
       " ' back glad good went unbeliev truli',\n",
       " ' servic fantast pleas atmospher',\n",
       " ' gross everyth',\n",
       " 'love  place',\n",
       " ' servic food great',\n",
       " ' plain yucki first dirti seat locat bathroom cover replenish',\n",
       " ' disappoint kind burger got gold standard',\n",
       " ' omg food delicioso',\n",
       " ' authent place noth',\n",
       " ' whatsoev special noth spaghetti',\n",
       " ' best salmon dish great',\n",
       " ' sauc veget fresh authent thai like feel',\n",
       " 'drive  worth tucson',\n",
       " ' none vega probabl seen worst select',\n",
       " ' good beer pretti select',\n",
       " ' chipotl better like place',\n",
       " ' classi steak appet fresh fun succul basebal atmospher warm',\n",
       " ' app oven star bread brick',\n",
       " ' eaten multipl delici time food',\n",
       " ' final sat anoth minut left gave ten',\n",
       " ' terribl',\n",
       " ' special treat equal everyon',\n",
       " ' egg min pancak take',\n",
       " ' delici',\n",
       " ' genuin good treat real side enthusiast staff pleasant',\n",
       " ' next trip avoid steak vega ramsey shall gordon sadli sharpli place',\n",
       " ' alway even delici wonder food',\n",
       " ' best fish ever life',\n",
       " ' next door nice bathroom',\n",
       " 'offer  small bland buffet food',\n",
       " ' outstand restaur best tast ever littl food',\n",
       " ' say cool pretti would',\n",
       " ' back buy unless turn definit someon els doubt',\n",
       " 'job handl  tabl rowdi larg server great',\n",
       " ' despic wast find food',\n",
       " ' bisqu soup wife lobster lukewarm',\n",
       " ' back vega come sushi crave would',\n",
       " ' great staff ambianc',\n",
       " ' deserv star',\n",
       " ' rest stomach day left sick felt ach',\n",
       " ' drop ball',\n",
       " ' dine decor comfort space tini elegantli',\n",
       " ' usual bean green stir love like custom order eggplant way fri',\n",
       " 'bean  best mediocr rice',\n",
       " ' best far town taco',\n",
       " ' back got money outta took',\n",
       " ' part interest amaz town place',\n",
       " ' manag rude inconsider',\n",
       " ' even time serv first horribl say minut one staff wait friendli hi',\n",
       " ' back',\n",
       " ' dinner great',\n",
       " ' outshin servic definit recommend halibut',\n",
       " ' food terribl',\n",
       " 'told back mani  never ever peopl go happen',\n",
       " ' front unless starv break recommend car',\n",
       " ' back vega everi come time',\n",
       " ' deserv one star food place',\n",
       " ' disgrac',\n",
       " 'back next come time def bowl',\n",
       " ' healthi want authent tri ethic food place',\n",
       " ' place night highli area come ladi continu recommend anyon andddd date',\n",
       " ' alway past time experi sever great',\n",
       " ' happi vega buffet away first experi walk stuf',\n",
       " ' insid price vega reason mall excel servic locat pretti aria crystal shop consid',\n",
       " ' quit pneumat transcend noth dispens incred condiment like bring summar joy nay memori food',\n",
       " ' ian ever probabl like one peopl go',\n",
       " ' kid alway pizza side lot kiddo option hit dish great',\n",
       " ' perfect nice famili servic see atmospher',\n",
       " ' impecc perfect servic cook',\n",
       " 'disappoint  one simpli',\n",
       " ' disappoint overal bouchon qualiti food',\n",
       " ' know account screw get',\n",
       " ' remind mom area littl francisco san bay shop great eat place pop',\n",
       " ' today tast thought first buldogi ever possibl gourmet dog tell hot',\n",
       " ' left frustrat',\n",
       " ' definit soon',\n",
       " ' good got realli full petti fast food',\n",
       " ' servic fantast',\n",
       " ' time wast total',\n",
       " ' know best tea kind ice',\n",
       " ' happi come leav stuf hungri',\n",
       " ' servic give star',\n",
       " 'disappoint assur ',\n",
       " ' bad suck littl servic food take',\n",
       " ' crust tri still gave teeth sore eat',\n",
       " 'complet  gross',\n",
       " 'enjoy  realli eat',\n",
       " ' quickli think first time becom regular go',\n",
       " ' though even end littl nice look overwhelm need server stay profession friendli',\n",
       " 'companion told everyth  tast fresh nice dinner textur',\n",
       " ' next smear everywher track pile tabl green poop step larg ground right bird',\n",
       " ' websit even furthermor hour find oper',\n",
       " ' done think time tri like place',\n",
       " ' mistak',\n",
       " 'complaint ',\n",
       " ' good pizza topic connisseur serious expert',\n",
       " ' jerk waiter',\n",
       " ' strike want rush',\n",
       " ' restaur across come ever owner nicest',\n",
       " ' never come',\n",
       " 'love  biscuit',\n",
       " ' servic quick friendli',\n",
       " ' appet pizza anoth minut order took',\n",
       " ' absolutley fantast',\n",
       " ' gristl piec huge cow lb awkward th fat',\n",
       " ' back definit come',\n",
       " ' dark like bar steiner feel',\n",
       " ' spici wow delici',\n",
       " ' familiar check',\n",
       " ' busi dollar elsewher dinner take',\n",
       " 'love back go ',\n",
       " ' restaur lunch fs anyway breakfast wonder',\n",
       " ' special noth',\n",
       " ' delici differ day deal week',\n",
       " ' winner pear big bacon mention combin almond',\n",
       " ' back',\n",
       " ' tasteless sauc',\n",
       " ' prefer sure delici enough ask spicier spici way food',\n",
       " ' perfectli steak flavor mesquit cook ribey great',\n",
       " ' back think soon anytim go',\n",
       " ' food gooodd',\n",
       " ' bad good differ certainli far connoisseur definit tell sushi food',\n",
       " ' insult',\n",
       " ' bad lunch time last',\n",
       " ' eaten chicken ever meat wing driest contain',\n",
       " ' relax good group small everi venu mouth etc coupl famili food enjoy',\n",
       " ' great nargil think',\n",
       " ' southwest best tot tater',\n",
       " 'love  place',\n",
       " ' definit worth paid',\n",
       " ' smooth cream ice fresh choux enough pastri profiterol creami vanilla',\n",
       " ' time im new az spot',\n",
       " ' manag worst',\n",
       " ' insid realli nice quit clean',\n",
       " ' outstand price reason food',\n",
       " ' run back think carli soon anytim food',\n",
       " ' forget anoth fact minut acknowledg kept due thing get food took',\n",
       " 'love  margarita',\n",
       " 'disappoint  vega buffet first',\n",
       " ' good though',\n",
       " ' upgrad use could note one ventil',\n",
       " ' sandwich pork great',\n",
       " ' time wast',\n",
       " ' total camelback flower letdown rather cartel would coffe shop much go',\n",
       " ' friend burger third chees cold',\n",
       " ' brunch enjoy pizza',\n",
       " ' trim perfectli steak cook well also',\n",
       " ' handl group claim beauti us would',\n",
       " 'love ',\n",
       " ' either ask without bill bring leav eat',\n",
       " ' nearli vega ten la year live hope exactli find jewel place',\n",
       " ' boil limit crab leg seafood tast fresh definit shrimp',\n",
       " ' best food select',\n",
       " ' back absolut delici',\n",
       " ' dine restaur fine small famili establish',\n",
       " ' white extraordinari toro tartar like thinli wagyu cavier slice truffl',\n",
       " ' back think time dont long',\n",
       " ' good station attach sign ga rare',\n",
       " ' awesom',\n",
       " ' back mani time soon',\n",
       " ' good could decid menu much stuff',\n",
       " ' wors front horribl worker bunch humili name call right',\n",
       " ' conclus fill meal',\n",
       " ' alway group special daili hit',\n",
       " ' tragedi struck',\n",
       " ' good realli larg pancak pretti also',\n",
       " ' delici first experi crawfish',\n",
       " ' egg chicken steak time favorit monster fri',\n",
       " 'sweet  funni waitress',\n",
       " ' butter tast mom delici fluffi pumpkin pancak also amaz multi pecan grain',\n",
       " ' airlin rather serious food eat',\n",
       " ' good enough say cant thing place',\n",
       " ' incred ambianc',\n",
       " ' manag friendli waitress',\n",
       " ' would recommend place',\n",
       " ' impress overal noca',\n",
       " ' gyro lettuc basic',\n",
       " ' servic terribl',\n",
       " 'thoroughli  disappoint',\n",
       " ' pasta homemad pizza love made thin hand much',\n",
       " ' give tri happi',\n",
       " ' best ever far cheesecurd',\n",
       " ' price also reason',\n",
       " ' everyth night perfect',\n",
       " ' good typic bar food',\n",
       " 'drive  get',\n",
       " ' love first nice friendli cafe bakeri ambianc staff clean glanc',\n",
       " ' back think anyway go',\n",
       " ' disappoint point finger item order menu',\n",
       " ' restaur oh beauti thing',\n",
       " ' gone go',\n",
       " 'greasi  unhealthi meal',\n",
       " ' first time might last',\n",
       " ' burger amaz',\n",
       " ' deliveri say apolog minut late word man food similarli',\n",
       " ' way expens',\n",
       " ' pack tiramisu sure even cannoli dessert need order die go',\n",
       " ' next first time wait',\n",
       " 'bartend  also nice',\n",
       " ' tasti everyth good',\n",
       " ' two thumb way place',\n",
       " ' best vega sun sat check breakfast place',\n",
       " ' place delici love yet whole want authent tri meat bunch need interest mexican food choos',\n",
       " ' manag terribl',\n",
       " ' restaur experienc frenchman excel new',\n",
       " ' give zero star would',\n",
       " ' steak side dessert wine amaz great',\n",
       " ' worst martini ever',\n",
       " ' best steak opinion gc entre shrimp',\n",
       " ' today pizza sampl amaz opportun',\n",
       " ' folk tabl seat minut thirti although vacant wait',\n",
       " ' fresh mouth yellowtail melt carpaccio',\n",
       " ' back even tri empti go',\n",
       " ' stranger potato hair found eat go',\n",
       " ' enough perfect actual spici',\n",
       " ' dine back night happi time second decid go last',\n",
       " ' hello right even',\n",
       " ' bit dessert strang',\n",
       " ' came trip vega could first time servic qualiti pleas food recent boyfriend',\n",
       " ' place wrong donut realli recommend go',\n",
       " ' ambianc nice',\n",
       " ' recommend would room save',\n",
       " ' went night disgrac guess mayb',\n",
       " ' good howev experi particular locat recent',\n",
       " ' know restaur someth like',\n",
       " ' avoid establish',\n",
       " ' restaur think suffer enough tri hard',\n",
       " ' dish tapa delici',\n",
       " ' place heart',\n",
       " ' green bland palm babi vinegrett heart salad',\n",
       " ' two felt disgust',\n",
       " ' time good',\n",
       " 'place  stop believ huge hanker sushi belli great',\n",
       " ' tast portion gener great',\n",
       " ' back never ever go recommend anyon place',\n",
       " ' back went even forth time sever help server much',\n",
       " ' food delici',\n",
       " ' hour serious',\n",
       " ' theft consid',\n",
       " ' eew locat need complet overhaul',\n",
       " ' manag toward well qualiti poor guest recent wit',\n",
       " ' wait',\n",
       " ' came back check excel servic also us regularli',\n",
       " ' mani check time nice super server us',\n",
       " ' good tast chewi pizza super way old',\n",
       " 'disappoint  give deepli tri swung',\n",
       " ' good compani better servic',\n",
       " ' effici also staff friendli',\n",
       " ' folk serv nice servic quick fan',\n",
       " 'boy  sucker dri',\n",
       " 'rate ',\n",
       " ' authent thai look els food go',\n",
       " ' recommend steak',\n",
       " ' anoth minut acknowledg wait pull car',\n",
       " ' set servic clean food friendli great',\n",
       " ' assur back',\n",
       " 'oliv  hate black qualiti thing much cheap',\n",
       " ' powder lightli giant present toast breakfast beauti dust slice perpar sugar great',\n",
       " ' kid nasti area play',\n",
       " ' take fo great eat place',\n",
       " ' happi waitress veggi option accomod friendli vegan',\n",
       " ' eaten never dish thai like food omg felt',\n",
       " ' tasteless pretti extrem crumbi',\n",
       " ' instead color pale flavor nice char',\n",
       " ' homemad tast crouton extra also plu',\n",
       " ' damn home got ever wing see driest',\n",
       " ' trip phoenix stop regular',\n",
       " ' told best even friend caf crema realli breakfast expand enjoy',\n",
       " ' good money',\n",
       " ' wish one philadelphia miss',\n",
       " ' anoth got end minut arriv sit wait order food fast fairli place',\n",
       " ' best also town chees crisp',\n",
       " ' good valu servic food great',\n",
       " ' satisfi ask meal',\n",
       " ' good food',\n",
       " ' awesom',\n",
       " 'leav  want',\n",
       " 'drive  disappoint made one bit north way scottsdal',\n",
       " ' eat',\n",
       " ' two sandwich freak realli owner need paper one let soooooo quit wrap cheap',\n",
       " ' ago check year coupl impress place',\n",
       " ' chicken wedg got cold definit soggi ok reheat',\n",
       " ' soon sorri anytim get food',\n",
       " ' must visit absolut',\n",
       " ' cheek cow amaz taco tongu',\n",
       " ' friend like mari bloodi',\n",
       " ' give despit busi hard rate actual star rare',\n",
       " ' good experi realli want one make',\n",
       " ' return',\n",
       " ' chicken tast bland pho',\n",
       " 'disappoint ',\n",
       " 'yellow  chicken saffron season grill tender',\n",
       " 'drive  make hour end want around somehow mean thru us half wait food go',\n",
       " ' awesom pretti place',\n",
       " ' ambienc perfect',\n",
       " ' luck best manag non servic custom rude focus new',\n",
       " ' chicken better one roast make grandmoth',\n",
       " ' ignor went multipl list time got ask wine one hostess',\n",
       " ' alway two small help cool boy super babi bring staff especi friendli',\n",
       " ' shirt four guy blue still let star us vibe food eat great',\n",
       " ' good sandwich tast realli beef roast',\n",
       " ' sick drastic even',\n",
       " ' chicken caesar high qualiti salad',\n",
       " ' came done burger order rare',\n",
       " ' promptli greet seat',\n",
       " ' lunch madhous tri go',\n",
       " ' wrong impecc proven dead servic bar qualiti sushi fast food great',\n",
       " ' hour greatest mood seat wait',\n",
       " 'joint  good',\n",
       " ' insan good macaron',\n",
       " ' eat',\n",
       " ' inform attent waiter friendli',\n",
       " ' cold would somewhat mayb edibl',\n",
       " ' fail lot deliv promis place',\n",
       " ' bad experi',\n",
       " ' mistak',\n",
       " 'averag  best food',\n",
       " ' food great',\n",
       " ' back soon anytim go',\n",
       " 'disappoint  big plater order bay',\n",
       " ' relax burger beer great awesom place',\n",
       " ' friend meal perfect famili sit togeth get',\n",
       " ' poorli flavor construct much',\n",
       " 'comfort  seat patio',\n",
       " ' dri rice well fri',\n",
       " ' restaur italian favorit hand',\n",
       " ' vega book scream pretti also somethat legit rare',\n",
       " ' fun experi',\n",
       " ' song love duo violinist request play atmospher great',\n",
       " ' pita love ganoush falafel amaz baklava baba person eggplant hummu',\n",
       " ' mgm sinc stay conveni',\n",
       " ' owner super staff courteou friendli',\n",
       " ' great',\n",
       " ' eclect select',\n",
       " ' ring good tot onion perfect sweet close potato',\n",
       " ' attent staff',\n",
       " ' came twice even chef time around gener pictur take',\n",
       " ' price use similar nobu realli owner work half place',\n",
       " ' smashburg mediocr googl imagin pop',\n",
       " ' dont go',\n",
       " 'disappoint  promis',\n",
       " ' avoid lover mean sushi place',\n",
       " 'doubl  cheeseburg great',\n",
       " ' servic food awesom',\n",
       " ' gem neighborhood fantast',\n",
       " ' back wait go',\n",
       " ' plantain tast ever worst',\n",
       " ' highli recommend great place',\n",
       " ' servic attent slow',\n",
       " ' star give gave',\n",
       " ' time staff talk spend',\n",
       " ' cotta panna dessert amaz',\n",
       " ' good atmospher food great',\n",
       " ' damn steak good',\n",
       " ' brunch fail total',\n",
       " ' home price slaw mayo reason sauc flavor drench made spot',\n",
       " ' decor soundtrack nice piano music pleasant',\n",
       " ' best steak seafood ever rge relleno amaz plate fillet',\n",
       " ' servic good food',\n",
       " ' amaz absolut',\n",
       " ' back probabl honest',\n",
       " ' back definit',\n",
       " ' sandwich sauc auju excel sergeant beef well pepper',\n",
       " 'breez  delight pineappl mango good smoothi magic tri far hawaiian',\n",
       " ' slow went lunch servic',\n",
       " ' disappoint quickli say amaz expect walk much place',\n",
       " ' mortifi',\n",
       " ' back never say needless',\n",
       " ' fill price pay anyway definit expect food',\n",
       " ' came mostli chip greas drip edibl',\n",
       " ' steak strip realli impress',\n",
       " ' everi meal sinc awesom go',\n",
       " ' attent serv nice server staff',\n",
       " ' cashier even brought food friendli',\n",
       " ' refrain valley longer paradis industri work recommend hospit cibo',\n",
       " ' fun atmospher',\n",
       " ' would other recommend',\n",
       " ' even like servic quick order go',\n",
       " ' fish chip realli mean terribl famou get',\n",
       " ' mouth still said pleas quit belli',\n",
       " 'thing ',\n",
       " ' thumb',\n",
       " 'pleas  read go',\n",
       " ' remind italian pizza love grill legit',\n",
       " ' simpl best homemad dough area pizza pro oven seat larg nice bar drink brick great menu',\n",
       " ' atmospher realli nice',\n",
       " ' special filet tonight suck elk',\n",
       " ' one bite hook',\n",
       " 'disappoint  everyth classic time go order sore dish new old',\n",
       " ' quaint simpl cute honest',\n",
       " ' chicken insid delici moist perfect outsid season fri',\n",
       " ' alway compliment chef food great',\n",
       " ' special tummi yummi thank order recommend dylan',\n",
       " ' beer awesom select',\n",
       " ' servic food awesom great',\n",
       " ' larger tip gratuiti nice sinc one bill thing ad parti expect',\n",
       " ' appl fli juic',\n",
       " ' chicken nan tasti han also',\n",
       " ' servic good thought',\n",
       " ' sit wait bare server bring us must food lukewarm',\n",
       " ' ryan edinburgh revisit one definit bar establish',\n",
       " ' restaur nicest chines',\n",
       " ' overal like servic food',\n",
       " ' sauc serv nut indian pine naan spici also world bread hummu',\n",
       " ' back never come probabl recommend',\n",
       " ' pasta bad friend touch bare also',\n",
       " ' experi tri tasti servic food airport friendli speedi',\n",
       " ' wall calligraphi decor love paper chines',\n",
       " 'complain  anyth never',\n",
       " ' restaur famili clean feel',\n",
       " ' way fri',\n",
       " ' sure begin stood enough awkwardli long feel place',\n",
       " 'open  good sandwich impress way',\n",
       " ' back',\n",
       " ' special treat like servic guest felt feel warm',\n",
       " ' breakfast lot provid option extens menu',\n",
       " ' alway wide vegetarian dinner order array option choos menu',\n",
       " ' manag price grow portion rapidli smaller get attitud inflat watch',\n",
       " ' insid ambienc fuzzi made tapa lil wonder feel warm',\n",
       " ' fabul got seafood vinegrett salad enjoy',\n",
       " ' chewi wonton mouth thin almost melt thick',\n",
       " 'level  whelm perfect soup spici spice',\n",
       " ' sat time server fantast get right go',\n",
       " ' older main crowd mid around thing enjoy',\n",
       " ' side definit town hit spot',\n",
       " ' arepa longer minut wait drink get',\n",
       " 'place  eat great',\n",
       " ' good soooo bacon jalapeno',\n",
       " ' that nice servic poor',\n",
       " ' good price servic food',\n",
       " ' stale oh clean food place',\n",
       " ' shoe chicken like beef ok dish leather',\n",
       " ' servic bad beyond',\n",
       " ' happi',\n",
       " 'like  dirt tast',\n",
       " ' back phoenix defin one go would place',\n",
       " ' block amaz',\n",
       " ' low good non price key hous close afford fanci food',\n",
       " ' egg sour flower soup absolut star hot',\n",
       " ' tasteless soggi sashimi qualiti poor',\n",
       " ' night time famili dinner great sunday',\n",
       " ' hunan real say tasti style food tradit',\n",
       " ' slow servic bother',\n",
       " ' flair absolut amaz bartend',\n",
       " ' margarita tast sugari frozen way',\n",
       " ' good order twice',\n",
       " ' restaraunt nutshel market fish combin dirti smell like sewer',\n",
       " ' girlfriend bad veal',\n",
       " ' good unfortun',\n",
       " ' satifi experi pretti',\n",
       " 'offer  club via join email get awesom',\n",
       " ' even ice perfect case like beer someon colder cold',\n",
       " 'describ  good flavorless bland tepid meat bare way',\n",
       " ' beat fan easili chain place',\n",
       " ' nacho must',\n",
       " ' back come',\n",
       " ' mani everyth say well word pretti place',\n",
       " ' lawyer juri court even crowd nice crazi super quick downtown staff',\n",
       " ' servic fast atmospher friendli great',\n",
       " ' pita receiv meat lot huge thumb',\n",
       " ' arriv meh food',\n",
       " ' came kid good pay wienerschnitzel meal look like idea dog fri hot',\n",
       " ' roll classic main lobster fantast',\n",
       " ' night mall day guess ate work sick brother law',\n",
       " ' good night twice tribut herea held event go review place last',\n",
       " ' good salsa chip fresh realli',\n",
       " ' great place',\n",
       " ' food mediocr',\n",
       " ' insid impress get place',\n",
       " ' super pissd',\n",
       " ' servic super friendli',\n",
       " ' veget overcook littl sad',\n",
       " ' surpris place nice',\n",
       " ' delici crispi golden',\n",
       " 'charcoal  tast burger fell hope sinc cook unfortun high grill way flat place',\n",
       " ' could devin bruschetta day eat',\n",
       " ' came final even refil water serv singl need employe ok see us food',\n",
       " ' best mozzarella lastli order stick thing',\n",
       " ' came first ever time experi still amaz peopl duck tell awesom',\n",
       " ' neglig unwelcom made need server suggest us would feel place',\n",
       " ' servic though terribl',\n",
       " ' boba overpr realli consist place',\n",
       " ' pack',\n",
       " 'love  place',\n",
       " ' yummi dessert say',\n",
       " ' food terribl',\n",
       " ' white fruit fresh season pure peach',\n",
       " ' wors offici done kept get',\n",
       " 'blown  honestli place',\n",
       " ' would definit eat',\n",
       " ' money wast',\n",
       " ' put box oppos love littl nice takeout paper cram contain food plastic',\n",
       " ' delic moist thin cr pe',\n",
       " 'aw servic ',\n",
       " ' ever go',\n",
       " ' horribl food qualiti',\n",
       " ' price think gone rather would much place',\n",
       " ' servic fair best',\n",
       " ' price hip love kabuki servic sushi found',\n",
       " ' favor away stay dish',\n",
       " ' servic poor',\n",
       " ' tabl thought averag one worth wait food',\n",
       " ' best good ever made servic day server maria food friendli',\n",
       " ' excel',\n",
       " 'job  tip server bill terribl paid felt',\n",
       " ' lunch experi great',\n",
       " ' read never bland flavor spice surpris focus articl food much consid',\n",
       " ' small fuck portion overpr way food',\n",
       " ' back everi tri sinc caballero recent week',\n",
       " ' better realli buck head expect food',\n",
       " ' came good pace food',\n",
       " ' twice salmon visit ate salad especi enjoy last',\n",
       " ' back',\n",
       " ' oyster could dirti believ',\n",
       " ' deserv place star',\n",
       " ' would recommend place',\n",
       " ' fact star round awesom go',\n",
       " ' tast qualifi worst ever version dish food disbelief',\n",
       " ' bad toler low job otherwis wash nice day rude custom servic peopl polit dish',\n",
       " ' biscuit potato great',\n",
       " ' would probabl go',\n",
       " ' amount flavor heat perfect',\n",
       " ' price reason servic great',\n",
       " ' coconut friend meal realli wife hate either shrimp enjoy',\n",
       " ' ranchero fella got huevo look appeal',\n",
       " ' went happi list hour wine great',\n",
       " ' pay buffet think say lot may quit get pricey place',\n",
       " ' back probabl come',\n",
       " ' servic worst food',\n",
       " ' good restaur littl nice pretti vibe place',\n",
       " ' back servic custom cours talk great',\n",
       " ' prepar temp glove everyth deep fri hand oil bare close staff food dish room hot watch cold',\n",
       " 'love  bean fri',\n",
       " ' alway pleasur deal',\n",
       " ' everyth sandwich get tri seal plethora approv salad',\n",
       " ' summer someth healthi want light awesom place',\n",
       " ' place strip sushi go',\n",
       " ' manag came even tabl help servic great',\n",
       " ' dine class slow best colleg servic cook cours high room feel',\n",
       " ' edit two start give one star review',\n",
       " ' ever costco besid sushi worst eat',\n",
       " ' restaur uniqu set excel servic beauti highlight great menu',\n",
       " 'delight  sat experi bar complet boyfriend',\n",
       " 'owner weird vibe ',\n",
       " ' hardli meat',\n",
       " ' bagel store groceri better',\n",
       " 'place gyro go ',\n",
       " ' chef love dude authent cool owner one japanes',\n",
       " ' good use pizza burger amaz flavorless doughi',\n",
       " ' salsa six piec inch wire long found',\n",
       " ' mediocr servic terribl food',\n",
       " 'enjoy  defin',\n",
       " ' tast soup frozen like albondiga order tomato meatbal warm',\n",
       " ' occas three done differ time got ask medium bloodiest piec meat well plate',\n",
       " ' two anymor bite refus eat',\n",
       " ' servic extrem slow',\n",
       " ' tabl got minut wait',\n",
       " ' killer latt chai serious hot',\n",
       " ' peanut meal waitress absolut warn allergi clue contain menu',\n",
       " ' chicken love fell tri mediterranean salad boyfriend',\n",
       " ' tap beer highlight also rotat place',\n",
       " ' concern price mushroom mellow bit',\n",
       " ' worst ever thai',\n",
       " ' vega least breakfast stay get must',\n",
       " ' first want say perfect servic server great',\n",
       " 'select  good pizza',\n",
       " 'strawberri  good tea',\n",
       " 'patron  highli rude loyal unprofession',\n",
       " ' overal experi great',\n",
       " 'elsewher  money spend',\n",
       " ' butter mmmm equal pat toast satisfi occasion bread regular',\n",
       " ' bellagio buffet far anticip',\n",
       " ' weak drink peopl',\n",
       " ' correct order',\n",
       " ' chip bought made like hous also feel',\n",
       " 'disappoint  went elsewher dessert dinner',\n",
       " ' chip amaz sal',\n",
       " ' return',\n",
       " ' vega buffet new spot fav',\n",
       " ' run mani chicken unexperienc around owner believ like head cut employe cannot serious',\n",
       " ' sad',\n",
       " ' judg human could disrespect anoth like talk felt insult',\n",
       " ' steakhous properli steak understand cook call',\n",
       " 'concept  impress food',\n",
       " ' guacamol crazi like thing ed pur',\n",
       " ' postino noth better realli experi hope',\n",
       " ' poison buffet got food',\n",
       " ' someth think fresh batch yay brought fri warm',\n",
       " ' entir trip hilari biggest christma yummi fail eve dinner us rememb',\n",
       " ' back soon say needless anytim go',\n",
       " ' place disgust',\n",
       " ' everi time degre teamwork see care profession eat',\n",
       " ' ri calamari style joke',\n",
       " ' howev bare garlic fondu much edibl',\n",
       " ' complain lunch could stomach busi meal bare',\n",
       " ' bad lost finish heart',\n",
       " ' check ask forev bring also us took',\n",
       " ' lost restaur make love get one definit scene',\n",
       " 'disappoint  experi',\n",
       " ' good par say food denni',\n",
       " ' mediocr want servic terribl downright wait food place',\n",
       " 'rate  say waaaaaayyyyyyyyyi',\n",
       " ' back go',\n",
       " ' simpli worth fairli clean food place',\n",
       " ' style place lack',\n",
       " ' glass sangria full wine ridicul half',\n",
       " ' come bother',\n",
       " ' dri brisket pork meat pretti slice pull',\n",
       " ' seem neat bathroom pretti build eat trippi',\n",
       " 'equal aw ',\n",
       " ' back hurri probabl go',\n",
       " ' slow even reserv seat',\n",
       " ' imagin good stretch',\n",
       " ' sauc bland veget cream undercook cashew',\n",
       " ' tasteless seem water heat thin dip chipolt ranch saus',\n",
       " ' lack flavor enough realli sweet bit spici',\n",
       " 'disappoint ',\n",
       " ' overpr horribl way place',\n",
       " ' best twice thought vegetarian averag fare mayb',\n",
       " ' know busi',\n",
       " ' alway tabl time dirti outsid worker help lot also friendli menu',\n",
       " ' garden tea buffet set like biscuit ambianc douchey feel indoor',\n",
       " ' servic spotti con',\n",
       " ' burger fri neither hot',\n",
       " ' came back cold',\n",
       " ' came disappoint ensu food',\n",
       " 'disappoint  real waiter',\n",
       " ' bad even husband apolog said rude anyth food',\n",
       " ' bing carb night fill reason stomach drink would get eat',\n",
       " ' insult serv outsid deuchebaggeri smoke solidifi break profound go',\n",
       " ' ala two combo think ask servic custom someon order part cart may taco',\n",
       " 'disappoint  door although need quit blame place',\n",
       " ' disappoint rave wait review eat',\n",
       " ' avoid nasti del possibl pretti taco',\n",
       " ' decent hard make hamburg',\n",
       " 'like ',\n",
       " 'back hell go',\n",
       " ' next door restaur pizza gotten better receiv servic much place',\n",
       " ' know big back ya deal place',\n",
       " ' manag immedi want guy shot said bar talk behind firebal',\n",
       " ' better much ambianc',\n",
       " ' set disapppoint unfortun entre us',\n",
       " ' good food',\n",
       " ' suck correct server heimer wait',\n",
       " ' next put pretti happen',\n",
       " ' know bad caus realli want famili like own place',\n",
       " ' get overpr',\n",
       " ' lunch mid bathroom vomit',\n",
       " ' time yet soon minut still look kept becom food',\n",
       " ' top circumst list ever return would eat place',\n",
       " ' start color fresh obvious sashimi brownish tuna',\n",
       " 'averag  food',\n",
       " ' restaur sure come nacho littl beat bit movi expect would',\n",
       " ' flop bay bit long ha',\n",
       " ' offer sandwich subway better amount sub veget bigger problem charg',\n",
       " ' mile ice live liter brushfir shrimp unwrap cold',\n",
       " ' dri seem lack flavor undercook',\n",
       " ' realli impress close place',\n",
       " 'mirag  avoid stay would place',\n",
       " 'bean came  dri bland meal refri crusti food',\n",
       " ' time money els spend place',\n",
       " ' next green tabl ladi live caterpillar us salad found',\n",
       " 'aw food present ',\n",
       " 'disappoint tell ',\n",
       " ' lack think flavor textur food',\n",
       " ' instantli gone appetit',\n",
       " ' back overal impress would go',\n",
       " ' next think time whole experi underwhelm ninja sushi go',\n",
       " ' pour check time enough wound bring life salt wast draw took']"
      ]
     },
     "execution_count": 25,
     "metadata": {},
     "output_type": "execute_result"
    }
   ],
   "source": [
    "all_reviews"
   ]
  },
  {
   "cell_type": "code",
   "execution_count": 26,
   "id": "4dda17fe",
   "metadata": {},
   "outputs": [],
   "source": [
    "from sklearn.feature_extraction.text import CountVectorizer"
   ]
  },
  {
   "cell_type": "code",
   "execution_count": 27,
   "id": "fbeb9f3e",
   "metadata": {},
   "outputs": [],
   "source": [
    "# find unique word then make the columns then covert review to matrix\n",
    "cv= CountVectorizer()\n",
    "X=cv.fit_transform(all_reviews).toarray()"
   ]
  },
  {
   "cell_type": "code",
   "execution_count": 28,
   "id": "82355d71",
   "metadata": {},
   "outputs": [
    {
     "data": {
      "text/plain": [
       "array([[0, 0, 0, ..., 0, 0, 0],\n",
       "       [0, 0, 0, ..., 0, 0, 0],\n",
       "       [0, 0, 0, ..., 0, 0, 0],\n",
       "       ...,\n",
       "       [0, 0, 0, ..., 0, 0, 0],\n",
       "       [0, 0, 0, ..., 0, 0, 0],\n",
       "       [0, 0, 0, ..., 0, 0, 0]], dtype=int64)"
      ]
     },
     "execution_count": 28,
     "metadata": {},
     "output_type": "execute_result"
    }
   ],
   "source": [
    "X"
   ]
  },
  {
   "cell_type": "code",
   "execution_count": 29,
   "id": "1d61c928",
   "metadata": {},
   "outputs": [
    {
     "data": {
      "text/plain": [
       "(1000, 1565)"
      ]
     },
     "execution_count": 29,
     "metadata": {},
     "output_type": "execute_result"
    }
   ],
   "source": [
    "X.shape"
   ]
  },
  {
   "cell_type": "code",
   "execution_count": 30,
   "id": "47e14bbf",
   "metadata": {},
   "outputs": [],
   "source": [
    "y= df['Liked']"
   ]
  },
  {
   "cell_type": "code",
   "execution_count": 31,
   "id": "65ee0c99",
   "metadata": {},
   "outputs": [
    {
     "data": {
      "text/plain": [
       "(1000,)"
      ]
     },
     "execution_count": 31,
     "metadata": {},
     "output_type": "execute_result"
    }
   ],
   "source": [
    "y.shape"
   ]
  },
  {
   "cell_type": "code",
   "execution_count": 32,
   "id": "b7d9c7c3",
   "metadata": {},
   "outputs": [],
   "source": [
    "# Splitting the dataset into the Training set and Test set\n",
    "from sklearn.model_selection import train_test_split"
   ]
  },
  {
   "cell_type": "code",
   "execution_count": 33,
   "id": "4592315a",
   "metadata": {},
   "outputs": [],
   "source": [
    "x_train,x_test,y_train,y_test= train_test_split(X,y,test_size=0.2,random_state=9)"
   ]
  },
  {
   "cell_type": "markdown",
   "id": "52af49c2",
   "metadata": {},
   "source": [
    "# Random Forest Classifier"
   ]
  },
  {
   "cell_type": "code",
   "execution_count": 34,
   "id": "bedf75c3",
   "metadata": {},
   "outputs": [],
   "source": [
    "from sklearn.ensemble import RandomForestClassifier"
   ]
  },
  {
   "cell_type": "code",
   "execution_count": 35,
   "id": "58c89074",
   "metadata": {},
   "outputs": [
    {
     "data": {
      "text/plain": [
       "0.72"
      ]
     },
     "execution_count": 35,
     "metadata": {},
     "output_type": "execute_result"
    }
   ],
   "source": [
    "model= RandomForestClassifier(random_state=45)\n",
    "model.fit(x_train,y_train)\n",
    "model.score(x_test,y_test)"
   ]
  },
  {
   "cell_type": "code",
   "execution_count": 36,
   "id": "b4be59c0",
   "metadata": {},
   "outputs": [],
   "source": [
    "y_pre= model.predict(x_test)"
   ]
  },
  {
   "cell_type": "code",
   "execution_count": 37,
   "id": "d6a64e3a",
   "metadata": {},
   "outputs": [
    {
     "data": {
      "text/plain": [
       "array([[77, 18],\n",
       "       [38, 67]], dtype=int64)"
      ]
     },
     "execution_count": 37,
     "metadata": {},
     "output_type": "execute_result"
    }
   ],
   "source": [
    "# making the confusion matrix\n",
    "from sklearn.metrics import confusion_matrix\n",
    "confusion_matrix(y_test,y_pre)"
   ]
  },
  {
   "cell_type": "markdown",
   "id": "9e10647e",
   "metadata": {},
   "source": [
    "# GauusianNB"
   ]
  },
  {
   "cell_type": "code",
   "execution_count": 38,
   "id": "d2038995",
   "metadata": {},
   "outputs": [
    {
     "data": {
      "text/plain": [
       "0.67"
      ]
     },
     "execution_count": 38,
     "metadata": {},
     "output_type": "execute_result"
    }
   ],
   "source": [
    "from sklearn.naive_bayes import GaussianNB\n",
    "classifier = GaussianNB()\n",
    "classifier.fit(x_train,y_train)\n",
    "classifier.score(x_test,y_test)"
   ]
  },
  {
   "cell_type": "code",
   "execution_count": 39,
   "id": "2138fe45",
   "metadata": {},
   "outputs": [],
   "source": [
    "y_pred =classifier.predict(x_test)"
   ]
  },
  {
   "cell_type": "code",
   "execution_count": 40,
   "id": "5a0f28c8",
   "metadata": {},
   "outputs": [
    {
     "data": {
      "text/plain": [
       "array([[48, 47],\n",
       "       [19, 86]], dtype=int64)"
      ]
     },
     "execution_count": 40,
     "metadata": {},
     "output_type": "execute_result"
    }
   ],
   "source": [
    "confusion_matrix(y_test,y_pred)"
   ]
  },
  {
   "cell_type": "code",
   "execution_count": null,
   "id": "66033256",
   "metadata": {},
   "outputs": [],
   "source": []
  }
 ],
 "metadata": {
  "kernelspec": {
   "display_name": "Python 3",
   "language": "python",
   "name": "python3"
  },
  "language_info": {
   "codemirror_mode": {
    "name": "ipython",
    "version": 3
   },
   "file_extension": ".py",
   "mimetype": "text/x-python",
   "name": "python",
   "nbconvert_exporter": "python",
   "pygments_lexer": "ipython3",
   "version": "3.8.8"
  }
 },
 "nbformat": 4,
 "nbformat_minor": 5
}
